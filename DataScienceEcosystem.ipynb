{
 "cells": [
  {
   "cell_type": "markdown",
   "id": "efdda9c4-b550-47cb-8590-32eef8ab2669",
   "metadata": {},
   "source": [
    "# Data Science Tools and Ecosystem"
   ]
  },
  {
   "cell_type": "markdown",
   "id": "3db08d70-154a-4ce2-a103-e5804e3a6a29",
   "metadata": {},
   "source": [
    "In this notebook, Data Science Tools and Ecosystem are summarized."
   ]
  },
  {
   "cell_type": "markdown",
   "id": "2b74c511-ed68-49f9-b11c-9004ba2e0e0a",
   "metadata": {},
   "source": [
    "**Objectives**\n",
    "- List of popular languages for Data Science.\n",
    "- List of commonly used libraries used by Data Scientists\n",
    "- List of the development environment open source tools\n",
    "- Few examples of evaluating arithmetic expressions in Pyhton\n",
    "- Examples of simple arithmethic expressions "
   ]
  },
  {
   "cell_type": "markdown",
   "id": "08bfea1f-c268-42c9-a255-7ca8bb810adb",
   "metadata": {},
   "source": [
    "Some of the popular languages that Data Scientists use are:\n",
    "\n",
    "1. R\n",
    "2. Python\n",
    "3. SQL\n"
   ]
  },
  {
   "cell_type": "markdown",
   "id": "40f9fb00-875e-4c29-aefd-0d5ac026bbb9",
   "metadata": {},
   "source": [
    "Some of the commonly used libraries used by Data Scientists include:\n",
    "\n",
    "1. Pandas\n",
    "2. NumPy\n",
    "3. Scikit-learn\n"
   ]
  },
  {
   "cell_type": "markdown",
   "id": "a08701f1-2b47-4dcf-9c8b-6be64fcd6159",
   "metadata": {},
   "source": [
    "Some of the development environment open source tools are:\n",
    "\n",
    "|Data Science Tools|\n",
    "|-------------------|\n",
    "|Jupyter Notebook|\n",
    "|VS Code (Visual Studio Code)|\n",
    "|RStudio|"
   ]
  },
  {
   "cell_type": "markdown",
   "id": "9b022da6-3556-4133-b4d7-4f61c80460ac",
   "metadata": {},
   "source": [
    "### Below are a few examples of evaluating arithmetic expressions in Python. ###\n",
    "\n",
    "1. `5 + 3 = 8`\n",
    "2. `10 - 4 = 6`\n",
    "3. `6 * 7 = 42`"
   ]
  },
  {
   "cell_type": "code",
   "execution_count": 2,
   "id": "f3643229-99e1-41fd-9105-df587bf1a96c",
   "metadata": {},
   "outputs": [
    {
     "data": {
      "text/plain": [
       "17"
      ]
     },
     "execution_count": 2,
     "metadata": {},
     "output_type": "execute_result"
    }
   ],
   "source": [
    "# This a simple arithmetic expression to multiply then add integers.\n",
    "\n",
    "(3*4)+5"
   ]
  },
  {
   "cell_type": "code",
   "execution_count": 2,
   "id": "64c3914b-6468-4ba9-840f-bcb4bab3d692",
   "metadata": {},
   "outputs": [
    {
     "name": "stdout",
     "output_type": "stream",
     "text": [
      "3.3333333333333335\n"
     ]
    }
   ],
   "source": [
    "# This will convert 200 minutes to hours by diving by 60.\n",
    "minutes = 200\n",
    "hours  = minutes / 60\n",
    "print(hours)"
   ]
  },
  {
   "cell_type": "markdown",
   "id": "8db3747b-4afb-42ee-b397-84f50658dd1b",
   "metadata": {},
   "source": [
    "## Author : Jiwoong"
   ]
  },
  {
   "cell_type": "code",
   "execution_count": null,
   "id": "1574011a-5e98-4645-b1a6-9a35c1a5920e",
   "metadata": {},
   "outputs": [],
   "source": []
  }
 ],
 "metadata": {
  "kernelspec": {
   "display_name": "Python 3 (ipykernel)",
   "language": "python",
   "name": "python3"
  },
  "language_info": {
   "codemirror_mode": {
    "name": "ipython",
    "version": 3
   },
   "file_extension": ".py",
   "mimetype": "text/x-python",
   "name": "python",
   "nbconvert_exporter": "python",
   "pygments_lexer": "ipython3",
   "version": "3.12.8"
  }
 },
 "nbformat": 4,
 "nbformat_minor": 5
}
